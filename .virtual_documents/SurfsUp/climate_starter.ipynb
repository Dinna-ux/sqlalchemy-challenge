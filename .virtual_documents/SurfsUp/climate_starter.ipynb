%matplotlib inline
from matplotlib import style
style.use('fivethirtyeight')
import matplotlib.pyplot as plt



import numpy as np
import pandas as pd
import datetime as dt






# Python SQL toolkit and Object Relational Mapper
import sqlalchemy
from sqlalchemy.ext.automap import automap_base
from sqlalchemy.orm import Session
from sqlalchemy import create_engine, func


# Create engine using the `hawaii.sqlite` database file
engine = create_engine("sqlite:///Resources/hawaii.sqlite")



# Declare a Base using `automap_base()`
Base = automap_base()
# Use the Base class to reflect the database tables
Base.prepare(autoload_with=engine)


# Print all of the classes mapped to the Base
Base.classes.keys()


# Assign the measurement class to a variable called `Measurement` and
# assign the station class to a variable called `Station`
Measurement = Base.classes.measurement


# Create a session
Station = Base.classes.station






# Find the most recent date in the data set.
#create a session
session = Session(engine)
# Query to get the most recent date
most_recent_date = session.query(func.max(Measurement.date)).scalar()

most_recent_date,


# Design a query to retrieve the last 12 months of precipitation data and plot the results.
# Starting from the most recent data point in the database.
# Find the most recent date in the dataset
most_recent_date = session.query(func.max(Measurement.date)).scalar()

# Convert the most recent date to a datetime object
most_recent_date = datetime.strptime(most_recent_date, '%Y-%m-%d')

# Calculate the date 12 months ago
one_year_ago = most_recent_date - timedelta(days=365)

# Query precipitation data for the last 12 months
precipitation_data = session.query(Measurement.date, Measurement.prcp)\
    .filter(Measurement.date >= one_year_ago)\
    .filter(Measurement.date <= most_recent_date)\
    .order_by(Measurement.date).all()

# Extract dates and precipitation values from the query results
dates = [result[0] for result in precipitation_data]
precipitation = [result[1] for result in precipitation_data]

# Plot the results
plt.figure(figsize=(10, 6))
plt.bar(dates, precipitation, width=3, color='b', alpha=0.5, align='center')
plt.title('Last 12 Months of Precipitation Data')
plt.xlabel('Date')
plt.ylabel('Precipitation (inches)')
plt.xticks(rotation=45)
plt.tight_layout()
plt.show()
# Calculate the date one year from the last date in data set.


# Perform a query to retrieve the data and precipitation scores


# Save the query results as a Pandas DataFrame. Explicitly set the column names


# Sort the dataframe by date


# Use Pandas Plotting with Matplotlib to plot the data


# Use Pandas to calculate the summary statistics for the precipitation data






# Design a query to calculate the total number of stations in the dataset



# Design a query to find the most active stations (i.e. which stations have the most rows?)
# List the stations and their counts in descending order.



# Using the most active station id from the previous query, calculate the lowest, highest, and average temperature.



# Using the most active station id
# Query the last 12 months of temperature observation data for this station and plot the results as a histogram






# Close Session
session.close()




